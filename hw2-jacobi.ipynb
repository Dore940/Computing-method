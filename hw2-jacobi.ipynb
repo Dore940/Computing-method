{
 "cells": [
  {
   "cell_type": "code",
   "execution_count": 1,
   "id": "b84224f7",
   "metadata": {},
   "outputs": [],
   "source": [
    "import numpy as np"
   ]
  },
  {
   "cell_type": "code",
   "execution_count": 2,
   "id": "93eb0632",
   "metadata": {},
   "outputs": [],
   "source": [
    "# Define the Jacobi method function\n",
    "def jacobi(A, b, a=0.0001, max_iter=100):\n",
    "    # Get the number of rows in the coefficient matrix A\n",
    "    n = len(A)\n",
    "    # Initialize the solution vector x to all zeros\n",
    "    x = np.zeros(n)\n",
    "    # Initialize the previous solution vector x_prev to all zeros\n",
    "    x_prev = np.zeros(n)\n",
    "    # Iterate until the maximum number of iterations is reached\n",
    "    for i in range(max_iter):\n",
    "        # Iterate over each row of the coefficient matrix A\n",
    "        for j in range(n):\n",
    "            # Compute the updated value of the jth component of the solution vector x\n",
    "            x[j] = (b[j] - np.dot(A[j,:], x_prev) + A[j,j]*x_prev[j]) / A[j,j]\n",
    "        # Compute the error estimate between the current and previous solution vectors\n",
    "        e = np.max(np.abs(x - x_prev))\n",
    "        # Check if the error estimate is less than the specified tolerance\n",
    "        if e < a:\n",
    "            # If the error estimate is less than the specified tolerance, return the solution vector x\n",
    "            return x\n",
    "        # Update the previous solution vector x_prev to the current solution vector x\n",
    "        x_prev = np.copy(x)\n",
    "    # If the maximum number of iterations is reached, return the solution vector x\n",
    "    return x\n"
   ]
  },
  {
   "cell_type": "code",
   "execution_count": 4,
   "id": "6925063f",
   "metadata": {},
   "outputs": [
    {
     "name": "stdout",
     "output_type": "stream",
     "text": [
      "[-7.67864496  1.81403044  3.81562557  0.79297299]\n"
     ]
    }
   ],
   "source": [
    "# Define the coefficient matrix A and the right-hand side vector b\n",
    "A = np.array([[20, 5, 7, 1], [-1, 13, -7, -7], [4, 6, 17, 5], [9, 8, 14, -25]])\n",
    "b = np.array([-117, -1, 49, -21])\n",
    "# Solve the linear system of equations using the Jacobi method with a tolerance of 0.0001 and a maximum of 100 iterations\n",
    "x = jacobi(A, b, a=0.0001, max_iter=100)\n",
    "# Print the solution vector x\n",
    "print(x)\n"
   ]
  },
  {
   "cell_type": "code",
   "execution_count": null,
   "id": "604df2ab",
   "metadata": {},
   "outputs": [],
   "source": []
  }
 ],
 "metadata": {
  "kernelspec": {
   "display_name": "Python 3",
   "language": "python",
   "name": "python3"
  },
  "language_info": {
   "codemirror_mode": {
    "name": "ipython",
    "version": 3
   },
   "file_extension": ".py",
   "mimetype": "text/x-python",
   "name": "python",
   "nbconvert_exporter": "python",
   "pygments_lexer": "ipython3",
   "version": "3.8.8"
  }
 },
 "nbformat": 4,
 "nbformat_minor": 5
}
